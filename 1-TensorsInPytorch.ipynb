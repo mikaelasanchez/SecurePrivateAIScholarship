{
  "cells": [
    {
      "cell_type": "markdown",
      "source": "# Tensors in PyTorch\nThis document contains notes from the Tensors in PyTorch Jupyter notebook\nto aid the author in learning about deep learning with PyTorch.",
      "metadata": {
        "pycharm": {
          "metadata": false,
          "name": "#%% md\n"
        }
      }
    },
    {
      "cell_type": "code",
      "execution_count": null,
      "outputs": [],
      "source": "# Import PyTorch\nimport torch\nimport numpy as np",
      "metadata": {
        "pycharm": {
          "metadata": false,
          "name": "#%%\n"
        }
      }
    },
    {
      "cell_type": "markdown",
      "source": "PyTorch is a framework for building and training neural networks\nNumpy arrays are tensors\nPyTorch moves these arrays to the GPU\nIt provides a module for automatic gradient calculation for back-propagation\nand building neural networks.\n\nNeural networks are built from individual parts approximating neurons\nEach unit has some number of weighted inputs\nThese inputs are summed (linear combination) then passed through an activation\nfunction to get the unit\u0027s output\n\nMathematically: \u003cbr\u003e\n$ y \u003d f(w_1x_1 + w_2x_2 + ... + b) $ \u003cbr\u003e\nWith vectors, this is the dot product of two vectors: \u003cbr\u003e\n$ [x_1, x_2 ...x_n] * [w_1, w_2 ... w_n] $\n\nNeural network computations are just linear algebra operations on tensors \u003cbr\u003e\nVectors have 1 dimension \u003cbr\u003e\nMatrices have 2 dimensions \u003cbr\u003e\nA 3 dimensional tensor (array) can be used for RGB colour images \u003cbr\u003e\n\nFundamental data structure for neural networks are tensors",
      "metadata": {
        "pycharm": {
          "metadata": false,
          "name": "#%% md\n"
        }
      }
    },
    {
      "cell_type": "code",
      "execution_count": null,
      "outputs": [],
      "source": "\n",
      "metadata": {
        "pycharm": {
          "metadata": false,
          "name": "#%%\n"
        }
      }
    }
  ],
  "metadata": {
    "language_info": {
      "codemirror_mode": {
        "name": "ipython",
        "version": 2
      },
      "file_extension": ".py",
      "mimetype": "text/x-python",
      "name": "python",
      "nbconvert_exporter": "python",
      "pygments_lexer": "ipython2",
      "version": "2.7.6"
    },
    "kernelspec": {
      "name": "python3",
      "language": "python",
      "display_name": "Python 3"
    },
    "stem_cell": {
      "cell_type": "raw",
      "source": "",
      "metadata": {
        "pycharm": {
          "metadata": false
        }
      }
    }
  },
  "nbformat": 4,
  "nbformat_minor": 0
}
