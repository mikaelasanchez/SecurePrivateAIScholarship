{
 "cells": [
  {
   "cell_type": "markdown",
   "metadata": {},
   "source": [
    "# Calculus\n",
    "\n",
    "Welcome to my Jupyter notebook for calculus.\n",
    "I have studied calculus at A-Level standard so hopefully I can help you understand its basics.\n",
    "\n",
    " ## Derivatives\n",
    "This is a picture of a line on a graph. If you remember, a slope or a gradient is how much a value rises compared to another value - <b>a rate of change</b>. <br>\n",
    "For example, if this was a distance-time graph, with time (<i>in seconds</i>) on the x axis and distance (<i>in metres</i>) on the y axis, the gradient would tell you the speed (<i>metres per second</i>).\n",
    "![Slope](img/slope.png)\n",
    "\n",
    "The slope of a line is given by:\n",
    "$$ slope = \\frac{Change in Y}{Change in X} $$\n"
   ]
  },
  {
   "cell_type": "markdown",
   "metadata": {},
   "source": [
    "<br>\n",
    "But how do we find the slope of a curve? <br>\n",
    "We can say that:\n",
    "![Slope dydx](img/slope-dy-dx2.png)\n",
    "\n",
    "$$ slope = \\frac{Change in Y}{Change in X} = \\frac{Δy}{Δx} $$\n",
    "\n",
    "Ad we can see from the image above,<br>\n",
    "<b>$x$</b> becomes <b>$x + \\delta{x}$</b><br>\n",
    "y or <b>$f(x)$</b> becomes <b>$f(x + \\delta{x})$</b><br><br>\n",
    "So we can say this slope formula is:\n",
    "$$\\frac{\\delta{y}}{\\delta{x}} = \\frac{f(x+\\delta{x}) − f(x)}{\\delta{x}}$$<br>\n",
    "Once we simplify this, we make $\\delta{x} = 0$, since we know $\\delta{x}$ gets closer to zero.\n",
    "<br><br>\n",
    "\n",
    "<i>Note that the images and information here can be found at <a href=\"https://www.mathsisfun.com/calculus/derivatives-introduction.html\">MathsIsFun.com</a> So you may find more info if you'd like a more in-depth explanation</i><br><br>\n",
    "\n",
    "From this, we learn how to derive the slope of many different curves.<br>\n",
    "One example is a simple parabola $y = x^2$. <br>"
   ]
  },
  {
   "cell_type": "code",
   "execution_count": 11,
   "metadata": {},
   "outputs": [
    {
     "data": {
      "image/png": "[encoded data removed]",
      "text/plain": [
       "<Figure size 432x288 with 1 Axes>"
      ]
     },
     "metadata": {
      "needs_background": "light"
     },
     "output_type": "display_data"
    }
   ],
   "source": [
    "# Run this to show a graph of the parabola y=x^2\n",
    "\n",
    "%matplotlib inline\n",
    "\n",
    "import matplotlib.pyplot as plt\n",
    "import numpy as np\n",
    "\n",
    "x = np.arange(-4, 5, 1)\n",
    "y = x**2\n",
    "\n",
    "plt.plot(x, y, 'k--')\n",
    "plt.xlabel('X')\n",
    "plt.ylabel(r'Y = $x^2$')\n",
    "plt.title(r\"Graph of $y = x^2$\")\n",
    "plt.grid(True)\n",
    "plt.show()"
   ]
  },
  {
   "cell_type": "markdown",
   "metadata": {},
   "source": [
    "The derivative is found to be:\n",
    "$$\\frac{dy}{dx} = \\frac{d(x^2)}{dx} = 2x$$<br>\n",
    "So we can say that when $x = 2$ the slope is $2x = 2(2) = 4$\n",
    "![Slope 2x](img/slope-x2-2.png)\n",
    "<br><br>\n",
    "The proper notation for <b>differentiation</b> (or finding the derivative) is:<br>\n",
    "$$ f'(x) = lim_{\\delta{x}\\rightarrow0}\\frac{f(x+\\delta{x}) − f(x)}{\\delta{x}} $$"
   ]
  }
 ],
 "metadata": {
  "kernelspec": {
   "display_name": "Python 3",
   "language": "python",
   "name": "python3"
  },
  "language_info": {
   "codemirror_mode": {
    "name": "ipython",
    "version": 3
   },
   "file_extension": ".py",
   "mimetype": "text/x-python",
   "name": "python",
   "nbconvert_exporter": "python",
   "pygments_lexer": "ipython3",
   "version": "3.7.3"
  }
 },
 "nbformat": 4,
 "nbformat_minor": 2
}
