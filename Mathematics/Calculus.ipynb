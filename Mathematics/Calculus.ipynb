{
 "cells": [
  {
   "cell_type": "markdown",
   "metadata": {},
   "source": [
    "# Calculus\n",
    "\n",
    "Welcome to my Jupyter notebook for calculus.\n",
    "I have studied calculus at A-Level standard so hopefully I can help you understand its basics.\n",
    "\n",
    " ## Derivatives\n",
    "This is a picture of a line on a graph. If you remember, a slope or a gradient is how much a value rises compared to another value. <br>\n",
    "For example, if this was a distance-time graph, with time (in seconds) on the x axis and distance (in metres) on the y axis, the gradient would tell you the speed (metres per second).\n",
    "![Slope](img/slope.svg)\n",
    "\n",
    "The slope of a line is given by:\n",
    "$$ slope = \\frac{Change in Y}{Change in X} $$\n"
   ]
  },
  {
   "cell_type": "markdown",
   "metadata": {},
   "source": [
    "<br>\n",
    "But how do we find the slope of a curve? <br>\n",
    "We can say that:\n",
    "![Slope dydx](img/slope-dy-dx2.gif)\n",
    "\n",
    "$$ slope = \\frac{Change in Y}{Change in X} = \\frac{Δy}{Δx} $$\n",
    "\n"
   ]
  },
  {
   "cell_type": "code",
   "execution_count": null,
   "metadata": {},
   "outputs": [],
   "source": []
  }
 ],
 "metadata": {
  "kernelspec": {
   "display_name": "Python 3",
   "language": "python",
   "name": "python3"
  },
  "language_info": {
   "codemirror_mode": {
    "name": "ipython",
    "version": 3
   },
   "file_extension": ".py",
   "mimetype": "text/x-python",
   "name": "python",
   "nbconvert_exporter": "python",
   "pygments_lexer": "ipython3",
   "version": "3.7.3"
  }
 },
 "nbformat": 4,
 "nbformat_minor": 2
}
